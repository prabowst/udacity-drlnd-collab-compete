{
 "cells": [
  {
   "cell_type": "markdown",
   "metadata": {},
   "source": [
    "# Collaboration and Competition\n",
    "\n",
    "This project entails training 2 agents to maintain a table tennis game. A reward of +0.1 is given if the agent is successfully hit the ball over the net. If an agent lets a ball hit the ground or hits the ball out of bounds, it receives a reward of -0.01 instead. Therefore the goal of these 2 agents is to keep the ball in play as long as possible."
   ]
  },
  {
   "cell_type": "markdown",
   "metadata": {},
   "source": [
    "#### 1. Import Packages\n",
    "\n",
    "The following imports are necessary in order to run the environment and train the agent. The agent built to solve this the given task is based on DDPG (Deep Deterministic Policy Gradient) method. However, since there are two agents playing within the environment, a method known as Multi Agent DDPG (MADDPG) is used. This simply means the DDPG algorithm will be training more than one agent at a time."
   ]
  },
  {
   "cell_type": "code",
   "execution_count": 8,
   "metadata": {},
   "outputs": [],
   "source": [
    "from unityagents import UnityEnvironment\n",
    "from collections import deque\n",
    "from maddpgtennis import DDPG, ReplayBuffer, MADDPG\n",
    "\n",
    "import matplotlib.pyplot as plt\n",
    "import numpy as np\n",
    "import torch\n",
    "import time as t_"
   ]
  },
  {
   "cell_type": "markdown",
   "metadata": {},
   "source": [
    "#### 2. Setting Up Environment\n",
    "\n",
    "The environment is provided by UnityEnvironment called Reacher.exe. This file is saved under the folder `Tennis_Windows_x86_64/Tennis.exe` since all of the training is done on a Windows 64-bit machine. The graphics is disabled during the training. Next, the brain of the environment is set before resetting the environment prior to exploring and/or training. \n",
    "\n",
    "The following information, however, is important to note:\n",
    "\n",
    "The following describes the Tennis environment.\n",
    "\n",
    "1. The observation space consists of 8 variables corresponding to the position and velocity of the ball and racket\n",
    "2. Each agent receives its own local observations\n",
    "3. Two continuous actions are available, corresponding to movement towards or away from the net and jumping"
   ]
  },
  {
   "cell_type": "code",
   "execution_count": 2,
   "metadata": {},
   "outputs": [
    {
     "name": "stderr",
     "output_type": "stream",
     "text": [
      "INFO:unityagents:\n",
      "'Academy' started successfully!\n",
      "Unity Academy name: Academy\n",
      "        Number of Brains: 1\n",
      "        Number of External Brains : 1\n",
      "        Lesson number : 0\n",
      "        Reset Parameters :\n",
      "\t\t\n",
      "Unity brain name: TennisBrain\n",
      "        Number of Visual Observations (per agent): 0\n",
      "        Vector Observation space type: continuous\n",
      "        Vector Observation space size (per agent): 8\n",
      "        Number of stacked Vector Observation: 3\n",
      "        Vector Action space type: continuous\n",
      "        Vector Action space size (per agent): 2\n",
      "        Vector Action descriptions: , \n"
     ]
    },
    {
     "name": "stdout",
     "output_type": "stream",
     "text": [
      "Number of agents: 2\n",
      "Size of each action: 2\n",
      "There are 2 agents. Each observes a state with length: 24\n"
     ]
    }
   ],
   "source": [
    "env = UnityEnvironment(file_name='Tennis_Windows_x86_64/Tennis.exe', no_graphics=True)\n",
    "\n",
    "brain_name = env.brain_names[0]\n",
    "brain = env.brains[brain_name]\n",
    "\n",
    "env_info = env.reset(train_mode=True)[brain_name]\n",
    "n_agents = len(env_info.agents)\n",
    "print('Number of agents:', n_agents)\n",
    "n_action = brain.vector_action_space_size\n",
    "print('Size of each action:', n_action)\n",
    "states = env_info.vector_observations\n",
    "n_state = states.shape[1]\n",
    "print('There are {} agents. Each observes a state with length: {}'.format(states.shape[0], n_state))"
   ]
  },
  {
   "cell_type": "markdown",
   "metadata": {},
   "source": [
    "The MADDPG agent is trained on the environment with 2 agents.\n",
    "\n",
    "Both of these agents will have the following neural network architecture:\n",
    "\n",
    "1. Actor Network\n",
    "    - `hidden_layer_1 = 256`, with `ReLU` activation function\n",
    "    - `hidden_layer_2 = 128`, with `ReLU` activation function\n",
    "    - `output_layer`, with `tanh` activation function\n",
    "    \n",
    "2. Critic Network\n",
    "    - `hidden_layer_1 = 256`, with `ReLU` activation function\n",
    "    - `hidden_layer_2 = 128`, with `ReLU` activation function\n",
    "    - `output_layer`, without activation function"
   ]
  },
  {
   "cell_type": "code",
   "execution_count": 3,
   "metadata": {},
   "outputs": [],
   "source": [
    "ma_ddpg = MADDPG(n_state=n_state, n_action=n_action, n_agents=n_agents)"
   ]
  },
  {
   "cell_type": "markdown",
   "metadata": {},
   "source": [
    "#### 3. Define model_train() Function to Train the Agent\n",
    "\n",
    "The following function is written to train the agent through a series of episodes. The total number of episodes is set to be 5000, with no maximum steps per episode (termination only occurs when the environment is no longer running that particular episode). \n",
    "\n",
    "The scores for each episode is recorded at the end of every loop. The stopping criteria of the agent trained is an average score of 0.5 or more for the past 100 consecutive episodes where the maximum score between the two agents is the one considered. This average score is stored within a list of avg_scores with maximum length of deque as 100. \n",
    "\n",
    "The function returns both the scores list and average scores list (to be plotted later)."
   ]
  },
  {
   "cell_type": "code",
   "execution_count": 4,
   "metadata": {},
   "outputs": [],
   "source": [
    "def model_train(num_episodes=5000, n_agents=n_agents):\n",
    "    avg_scores = deque(maxlen=100)\n",
    "    scores = []\n",
    "    avg_100 = []\n",
    "    counter = 0\n",
    "    for episode in range(1, num_episodes+1):\n",
    "        env_info = env.reset(train_mode=True)[brain_name]\n",
    "        states = env_info.vector_observations\n",
    "        score = np.zeros(n_agents)\n",
    "        start = t_.time()\n",
    "        while True:\n",
    "            # take actions\n",
    "            sel_actions = ma_ddpg.action_(states)\n",
    "            act_ = torch.stack(sel_actions).cpu().detach()\n",
    "            actions = np.clip(act_.numpy(), -1, 1)\n",
    "            # update the environment\n",
    "            env_info = env.step(actions)[brain_name]\n",
    "            states_ = env_info.vector_observations\n",
    "            rewards = env_info.rewards\n",
    "            dones = env_info.local_done\n",
    "            # step and check if agent can learn\n",
    "            ma_ddpg.step(states, act_, rewards, states_, dones)\n",
    "            # reassign states and add rewards\n",
    "            states = states_\n",
    "            score += rewards\n",
    "            # check for finished conditions\n",
    "            if np.any(dones):\n",
    "                break\n",
    "        end_t = round(t_.time() - start, 2)\n",
    "        best_score = np.max(score)\n",
    "        if best_score > 0:\n",
    "            counter += 1\n",
    "        scores.append(best_score)\n",
    "        avg_scores.append(best_score)\n",
    "        avg_100.append(np.mean(avg_scores))\n",
    "        print('\\rEpisode {} \\tMax Score: {:.2f} \\tAverage Score: {:.2f} \\tScore Above 0: {} \\tRuntime: {} seconds'.format(episode, best_score, avg_100[-1], counter, end_t), end='')\n",
    "        if episode % 100 == 0:\n",
    "            print('\\rEpisode {} \\tMax Score: {:.2f} \\tAverage Score: {:.2f} \\tScore Above 0: {} \\tRuntime: {} seconds'.format(episode, best_score, avg_100[-1], counter, end_t))\n",
    "        if np.mean(avg_scores) >= 0.50:\n",
    "            print('\\nEnvironment solved in {:d} episodes!'.format(episode))\n",
    "            print('Average Final Score: {:.2f}'.format(np.mean(avg_scores)))\n",
    "            for i in range(n_agents):\n",
    "                torch.save(ma_ddpg.agents_[i].act_local.state_dict(),\n",
    "                           'saved_model/agent{}_DDPG_act_tennis.pth'.format(i))\n",
    "                torch.save(ma_ddpg.agents_[i].crit_local.state_dict(),\n",
    "                           'saved_model/agent{}_DDPG_crit_tennis.pth'.format(i))\n",
    "            print('Model weights have been saved!')\n",
    "            break\n",
    "    return scores, avg_100"
   ]
  },
  {
   "cell_type": "code",
   "execution_count": 5,
   "metadata": {},
   "outputs": [
    {
     "name": "stdout",
     "output_type": "stream",
     "text": [
      "Episode 100 \tMax Score: 0.00 \tAverage Score: 0.01 \tScore Above 0: 11 \tRuntime: 1.03 seconds\n",
      "Episode 200 \tMax Score: 0.10 \tAverage Score: 0.01 \tScore Above 0: 24 \tRuntime: 3.05 seconds\n",
      "Episode 300 \tMax Score: 0.00 \tAverage Score: 0.04 \tScore Above 0: 67 \tRuntime: 0.85 seconds\n",
      "Episode 400 \tMax Score: 0.20 \tAverage Score: 0.09 \tScore Above 0: 151 \tRuntime: 3.9 secondsss\n",
      "Episode 500 \tMax Score: 0.60 \tAverage Score: 0.21 \tScore Above 0: 251 \tRuntime: 13.47 seconds\n",
      "Episode 550 \tMax Score: 2.60 \tAverage Score: 0.52 \tScore Above 0: 300 \tRuntime: 61.23 seconds\n",
      "Environment solved in 550 episodes!\n",
      "Average Final Score: 0.52\n",
      "Model weights have been saved!\n"
     ]
    }
   ],
   "source": [
    "maddpg_scores, maddpg_avg_scores = model_train()"
   ]
  },
  {
   "cell_type": "markdown",
   "metadata": {},
   "source": [
    "The results show that the agent is able to solve the environment with average final score of 0.52 after 550 episodes."
   ]
  },
  {
   "cell_type": "code",
   "execution_count": 6,
   "metadata": {},
   "outputs": [
    {
     "data": {
      "image/png": "[encoded data removed]",
      "text/plain": [
       "<Figure size 720x432 with 1 Axes>"
      ]
     },
     "metadata": {
      "needs_background": "light"
     },
     "output_type": "display_data"
    }
   ],
   "source": [
    "index = [i+1 for i in range(len(maddpg_scores))]\n",
    "plt.figure(figsize=(10,6))\n",
    "plt.plot(index, maddpg_scores, label='Scores')\n",
    "plt.hlines(0.5, -1, len(maddpg_scores)+1, colors = 'k', linestyle='dashdot',\n",
    "            linewidth=2, label='Performance Goal')\n",
    "plt.plot(index, maddpg_avg_scores, 'r', linewidth=3, label='Avg Scores')\n",
    "plt.title('Multi Agent DDPG (Tennis)')\n",
    "plt.xlabel('Number of Episodes')\n",
    "plt.ylabel('Scores')\n",
    "plt.axis('tight')\n",
    "plt.legend()\n",
    "plt.savefig('figures/maddpg_scores.png')\n",
    "plt.show()"
   ]
  },
  {
   "cell_type": "markdown",
   "metadata": {},
   "source": [
    "#### 4. Discussion and Observations\n",
    "\n",
    "The plots shown above suggest that the MADDPG is successful in completing the environment. Unlike the previous projects in which the agent has shown consistent climb in scores, this method does seem to be oscillating a lot at the beginning of the training phase. \n",
    "\n",
    "Rather than concluding that the agents are unable to learn consistently, however, it is more likely that the agents are lacking in terms of positive feedback in episode 0 to 300. Most of the scores obtained during this period are mostly 0s. This caused problem for the agents to learn in a timely manner. However, once the number of scores above 0 starts to populate the plot, the agents show a significant increase in scores starting from around episode 350 which eventually shoots up to 2.5 or even more after 500 episodes.  \n",
    "\n",
    "In the process of completing the project, numerous combinations of hyperparameters were implemented for DDPG. Among 10 or so combinations, these hyperparameters were found to be the most optimal:\n",
    "\n",
    "1. noise_weight = 1.0\n",
    "2. noise_min = 0.1\n",
    "3. noise_decay = 0.997\n",
    "4. gamma = 0.99\n",
    "5. tau = 0.01\n",
    "6. learning rate\n",
    "    - 0.0001 for Actor\n",
    "    - 0.0003 for Critic\n",
    "7. Deep QNetwork:\n",
    "    - hidden_layer_1 = 128, with ReLU\n",
    "    - hidden_layer_2 = 128, with ReLU\n",
    "    - output_layer\n",
    "        - tanh activation function for Actor\n",
    "        - no activation function for Critic\n",
    "8. targetUpdateNet = 1\n",
    "9. num_update = 1\n",
    "10. noise_update = 1\n",
    "11. seed = 0\n",
    "\n",
    "It is crucial to note that this method can be significantly improved by finding a methodical solution to sampling the possible actions at the beginning of the training phase more effectively.\n",
    "\n",
    "One limiting factor in exploring all of these hyperparameters is definitely the time it takes to train the agent. Therefore, the model can be improved further by either tweaking the DDPG Agent's hyperparameters or the architecture of the neural network itself, e.g. learning rate, number of hidden layers, number of neurons per hidden layer, activation function (LeakyReLU instead of ReLU), etc."
   ]
  },
  {
   "cell_type": "code",
   "execution_count": 7,
   "metadata": {},
   "outputs": [],
   "source": [
    "env.close()"
   ]
  }
 ],
 "metadata": {
  "kernelspec": {
   "display_name": "drlnd",
   "language": "python",
   "name": "drlnd"
  },
  "language_info": {
   "codemirror_mode": {
    "name": "ipython",
    "version": 3
   },
   "file_extension": ".py",
   "mimetype": "text/x-python",
   "name": "python",
   "nbconvert_exporter": "python",
   "pygments_lexer": "ipython3",
   "version": "3.6.10"
  }
 },
 "nbformat": 4,
 "nbformat_minor": 4
}
